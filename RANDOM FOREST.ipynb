{
 "cells": [
  {
   "cell_type": "code",
   "execution_count": 8,
   "metadata": {},
   "outputs": [],
   "source": [
    "import numpy as np \n",
    "import pandas as pd\n",
    "from sklearn import metrics\n",
    "from sklearn.tree import DecisionTreeClassifier\n",
    "from sklearn.ensemble import AdaBoostClassifier,GradientBoostingClassifier,RandomForestClassifier\n",
    "from sklearn.model_selection import train_test_split\n",
    "from sklearn import linear_model, datasets\n",
    "from sklearn.linear_model import RandomizedLogisticRegression\n",
    "from sklearn.metrics import roc_curve, auc\n",
    "import matplotlib.pyplot as plt"
   ]
  },
  {
   "cell_type": "code",
   "execution_count": 11,
   "metadata": {},
   "outputs": [],
   "source": [
    "#main_df=pd.read_csv(\"creditcard.csv\")\n",
    "main_df=pd.read_csv(\"F:\\creditcard.csv\")\n",
    "main_df.head()\n",
    "feature_size = len(main_df.columns)\n",
    "class_index = feature_size -1 "
   ]
  },
  {
   "cell_type": "code",
   "execution_count": 12,
   "metadata": {},
   "outputs": [
    {
     "name": "stdout",
     "output_type": "stream",
     "text": [
      "Percentage of normal transactions                 : 0.5\n",
      "Percentage of fraudulent trasactions                : 0.5\n",
      "Total number of transactions in our new dataset : 984\n"
     ]
    }
   ],
   "source": [
    "fraud_raw = main_df[main_df['Class'] == 1]\n",
    "normal_raw = main_df[main_df['Class'] == 0]\n",
    "\n",
    "# Undersample the normal transactions\n",
    "percentage = len(fraud_raw)/float(len(normal_raw))\n",
    "normal = normal_raw.sample(frac=percentage)\n",
    "fraud = fraud_raw\n",
    "cc_data = fraud.append(normal)\n",
    "\n",
    "print (\"Percentage of normal transactions                 :\", len(normal) / float(len(cc_data)))\n",
    "print (\"Percentage of fraudulent trasactions                :\", len(fraud_raw) / float(len(cc_data)))\n",
    "print (\"Total number of transactions in our new dataset :\", len(cc_data))"
   ]
  },
  {
   "cell_type": "code",
   "execution_count": 13,
   "metadata": {
    "collapsed": true
   },
   "outputs": [],
   "source": [
    "reg_model = RandomForestClassifier(criterion='entropy',n_estimators=100)\n",
    "train_data,test_data = train_test_split(cc_data,test_size=0.30)\n",
    "train_matrix = train_data.as_matrix()\n",
    "x = train_matrix[:,range(0,class_index-1)]\n",
    "y=train_matrix[:,class_index]\n",
    "reg_model = reg_model.fit(x,y)\n"
   ]
  },
  {
   "cell_type": "code",
   "execution_count": 14,
   "metadata": {
    "collapsed": true
   },
   "outputs": [],
   "source": [
    "test_matrix =test_data.as_matrix()\n",
    "test_x = test_matrix[:,range(0,class_index-1)]\n",
    "test_y=test_matrix[:,class_index]"
   ]
  },
  {
   "cell_type": "code",
   "execution_count": 15,
   "metadata": {
    "collapsed": true
   },
   "outputs": [],
   "source": [
    "predicted = reg_model.predict(test_x)"
   ]
  },
  {
   "cell_type": "code",
   "execution_count": 16,
   "metadata": {},
   "outputs": [
    {
     "name": "stdout",
     "output_type": "stream",
     "text": [
      "             precision    recall  f1-score   support\n",
      "\n",
      "        0.0       0.90      0.99      0.94       154\n",
      "        1.0       0.98      0.89      0.93       142\n",
      "\n",
      "avg / total       0.94      0.94      0.94       296\n",
      "\n",
      "[[152   2]\n",
      " [ 16 126]]\n",
      "AUC = 0.9372\n"
     ]
    },
    {
     "data": {
      "image/png": "[encoded data removed]",
      "text/plain": [
       "<matplotlib.figure.Figure at 0x5800f09b0>"
      ]
     },
     "metadata": {},
     "output_type": "display_data"
    }
   ],
   "source": [
    "print(metrics.classification_report(test_y, predicted))\n",
    "print(metrics.confusion_matrix(test_y, predicted))\n",
    "false_positive_rate, true_positive_rate, thresholds = roc_curve(test_y, predicted)\n",
    "roc_auc = auc(false_positive_rate, true_positive_rate)\n",
    "print('AUC = %0.4f'% roc_auc)\n",
    "plt.title('Receiver Operating Characteristic')\n",
    "plt.plot(false_positive_rate, true_positive_rate, 'b',\n",
    "label='AUC = %0.2f'% roc_auc)\n",
    "plt.legend(loc='lower right')\n",
    "plt.plot([0,1],[0,1],'r--')\n",
    "plt.xlim([-0.1,1.2])\n",
    "plt.ylim([-0.1,1.2])\n",
    "plt.ylabel('True Positive Rate')\n",
    "plt.xlabel('False Positive Rate')\n",
    "plt.show()"
   ]
  },
  {
   "cell_type": "code",
   "execution_count": null,
   "metadata": {
    "collapsed": true
   },
   "outputs": [],
   "source": []
  }
 ],
 "metadata": {
  "kernelspec": {
   "display_name": "Python 3",
   "language": "python",
   "name": "python3"
  },
  "language_info": {
   "codemirror_mode": {
    "name": "ipython",
    "version": 3
   },
   "file_extension": ".py",
   "mimetype": "text/x-python",
   "name": "python",
   "nbconvert_exporter": "python",
   "pygments_lexer": "ipython3",
   "version": "3.6.2"
  }
 },
 "nbformat": 4,
 "nbformat_minor": 2
}
